{
  "cells": [
    {
      "cell_type": "code",
      "source": [
        "!pip install torchnet"
      ],
      "metadata": {
        "id": "bK7MMdVz1F-y",
        "colab": {
          "base_uri": "https://localhost:8080/"
        },
        "outputId": "75ec11d4-fe49-428b-bf6a-0b15a7af7510"
      },
      "execution_count": null,
      "outputs": [
        {
          "output_type": "stream",
          "name": "stdout",
          "text": [
            "Collecting torchnet\n",
            "  Downloading torchnet-0.0.4.tar.gz (23 kB)\n",
            "Requirement already satisfied: torch in /usr/local/lib/python3.7/dist-packages (from torchnet) (1.10.0+cu111)\n",
            "Requirement already satisfied: six in /usr/local/lib/python3.7/dist-packages (from torchnet) (1.15.0)\n",
            "Collecting visdom\n",
            "  Downloading visdom-0.1.8.9.tar.gz (676 kB)\n",
            "\u001b[K     |████████████████████████████████| 676 kB 38.4 MB/s \n",
            "\u001b[?25hRequirement already satisfied: typing-extensions in /usr/local/lib/python3.7/dist-packages (from torch->torchnet) (4.1.1)\n",
            "Requirement already satisfied: numpy>=1.8 in /usr/local/lib/python3.7/dist-packages (from visdom->torchnet) (1.21.6)\n",
            "Requirement already satisfied: scipy in /usr/local/lib/python3.7/dist-packages (from visdom->torchnet) (1.4.1)\n",
            "Requirement already satisfied: requests in /usr/local/lib/python3.7/dist-packages (from visdom->torchnet) (2.23.0)\n",
            "Requirement already satisfied: tornado in /usr/local/lib/python3.7/dist-packages (from visdom->torchnet) (5.1.1)\n",
            "Requirement already satisfied: pyzmq in /usr/local/lib/python3.7/dist-packages (from visdom->torchnet) (22.3.0)\n",
            "Collecting jsonpatch\n",
            "  Downloading jsonpatch-1.32-py2.py3-none-any.whl (12 kB)\n",
            "Collecting torchfile\n",
            "  Downloading torchfile-0.1.0.tar.gz (5.2 kB)\n",
            "Collecting websocket-client\n",
            "  Downloading websocket_client-1.3.2-py3-none-any.whl (54 kB)\n",
            "\u001b[K     |████████████████████████████████| 54 kB 1.4 MB/s \n",
            "\u001b[?25hRequirement already satisfied: pillow in /usr/local/lib/python3.7/dist-packages (from visdom->torchnet) (7.1.2)\n",
            "Collecting jsonpointer>=1.9\n",
            "  Downloading jsonpointer-2.3-py2.py3-none-any.whl (7.8 kB)\n",
            "Requirement already satisfied: chardet<4,>=3.0.2 in /usr/local/lib/python3.7/dist-packages (from requests->visdom->torchnet) (3.0.4)\n",
            "Requirement already satisfied: certifi>=2017.4.17 in /usr/local/lib/python3.7/dist-packages (from requests->visdom->torchnet) (2021.10.8)\n",
            "Requirement already satisfied: urllib3!=1.25.0,!=1.25.1,<1.26,>=1.21.1 in /usr/local/lib/python3.7/dist-packages (from requests->visdom->torchnet) (1.24.3)\n",
            "Requirement already satisfied: idna<3,>=2.5 in /usr/local/lib/python3.7/dist-packages (from requests->visdom->torchnet) (2.10)\n",
            "Building wheels for collected packages: torchnet, visdom, torchfile\n",
            "  Building wheel for torchnet (setup.py) ... \u001b[?25l\u001b[?25hdone\n",
            "  Created wheel for torchnet: filename=torchnet-0.0.4-py3-none-any.whl size=29742 sha256=9e9dfcbcf7c9874f82692bf6dfeca3854a7677859045a47591bfc9d586f882c2\n",
            "  Stored in directory: /root/.cache/pip/wheels/93/17/b3/86db1d93e9dae198813aa79831b403e4844d67986cf93894b5\n",
            "  Building wheel for visdom (setup.py) ... \u001b[?25l\u001b[?25hdone\n",
            "  Created wheel for visdom: filename=visdom-0.1.8.9-py3-none-any.whl size=655250 sha256=ade50025b34324a71f4ecfbc421294fa2a10a6f6c133f93bac7557100d6f0c35\n",
            "  Stored in directory: /root/.cache/pip/wheels/2d/d1/9b/cde923274eac9cbb6ff0d8c7c72fe30a3da9095a38fd50bbf1\n",
            "  Building wheel for torchfile (setup.py) ... \u001b[?25l\u001b[?25hdone\n",
            "  Created wheel for torchfile: filename=torchfile-0.1.0-py3-none-any.whl size=5709 sha256=20779deef8983259a1f0a9b565b6e57c16c899a3a436d8e0cfc7ed9098501644\n",
            "  Stored in directory: /root/.cache/pip/wheels/ac/5c/3a/a80e1c65880945c71fd833408cd1e9a8cb7e2f8f37620bb75b\n",
            "Successfully built torchnet visdom torchfile\n",
            "Installing collected packages: jsonpointer, websocket-client, torchfile, jsonpatch, visdom, torchnet\n",
            "Successfully installed jsonpatch-1.32 jsonpointer-2.3 torchfile-0.1.0 torchnet-0.0.4 visdom-0.1.8.9 websocket-client-1.3.2\n"
          ]
        }
      ]
    },
    {
      "cell_type": "code",
      "source": [
        "import subprocess\n",
        "import os\n",
        "import sys\n",
        "import glob\n",
        "import json\n",
        "import shutil\n",
        "from PIL import Image\n",
        "from collections import Counter\n",
        "import numpy as np\n",
        "import pandas as pd\n",
        "from random import sample\n",
        "import matplotlib.pyplot as plt\n",
        "from matplotlib.ticker import MultipleLocator\n",
        "from collections import Counter\n",
        "import torchvision\n",
        "from torchvision import datasets, transforms\n",
        "from torchvision import models\n",
        "import torch\n",
        "import torch.nn as nn\n",
        "import torch.nn.functional as F\n",
        "from torch.optim import lr_scheduler, SGD\n",
        "from torch.autograd import Variable\n",
        "from torchvision import models\n",
        "from torch.utils.data import DataLoader\n",
        "import torchnet as tnt\n",
        "import time\n",
        "from scipy.interpolate import interp1d\n",
        "import subprocess\n",
        "import requests\n",
        "from urllib.request import urlretrieve\n",
        "import tarfile\n",
        "import copy"
      ],
      "metadata": {
        "id": "2Bq7RlMaZbnu"
      },
      "execution_count": null,
      "outputs": []
    },
    {
      "cell_type": "code",
      "execution_count": null,
      "metadata": {
        "id": "80cVt7mckAjw"
      },
      "outputs": [],
      "source": [
        "%matplotlib inline\n",
        "%load_ext autoreload\n",
        "%autoreload 2"
      ]
    },
    {
      "cell_type": "markdown",
      "metadata": {
        "id": "k1ouRB3TuGGK"
      },
      "source": [
        "### utils"
      ]
    },
    {
      "cell_type": "code",
      "execution_count": null,
      "metadata": {
        "id": "nH_-ZjObt7gk"
      },
      "outputs": [],
      "source": [
        "def get_number_processors():\n",
        "    \"\"\"Get the number of processors in a CPU.\n",
        "    Returns:\n",
        "        num (int): Number of processors.\n",
        "    Examples:\n",
        "        >>> get_number_processors()\n",
        "        4\n",
        "    \"\"\"\n",
        "    try:\n",
        "        num = os.cpu_count()\n",
        "    except Exception:\n",
        "        import multiprocessing #force exception in case mutiprocessing is not installed\n",
        "        num = multiprocessing.cpu_count()\n",
        "    return num\n",
        "\n",
        "\n",
        "def get_gpu_name():\n",
        "    \"\"\"Get the GPUs in the system\n",
        "    Examples:\n",
        "        >>> get_gpu_name()\n",
        "        ['Tesla M60', 'Tesla M60', 'Tesla M60', 'Tesla M60']\n",
        "        \n",
        "    \"\"\"\n",
        "    try:\n",
        "        out_str = subprocess.run([\"nvidia-smi\", \"--query-gpu=gpu_name\", \"--format=csv\"], stdout=subprocess.PIPE).stdout\n",
        "        out_list = out_str.decode(\"utf-8\").split('\\n')\n",
        "        out_list = out_list[1:-1]\n",
        "        return out_list\n",
        "    except Exception as e:\n",
        "        print(e)\n",
        "\n",
        "\n",
        "def get_gpu_memory():\n",
        "    \"\"\"Get the memory of the GPUs in the system\n",
        "    Examples:\n",
        "        >>> get_gpu_memory()\n",
        "        ['8123 MiB', '8123 MiB', '8123 MiB', '8123 MiB']\n",
        "\n",
        "    \"\"\"\n",
        "    try:\n",
        "        out_str = subprocess.run([\"nvidia-smi\", \"--query-gpu=memory.total\", \"--format=csv\"], stdout=subprocess.PIPE).stdout\n",
        "        out_list = out_str.decode(\"utf-8\").replace('\\r','').split('\\n')\n",
        "        out_list = out_list[1:-1]\n",
        "        return out_list\n",
        "    except Exception as e:\n",
        "        print(e)\n",
        "\n",
        "        \n",
        "def get_cuda_version():\n",
        "    \"\"\"Get the CUDA version\n",
        "    Examples:\n",
        "        >>> get_cuda_version()\n",
        "        'CUDA Version 8.0.61'\n",
        "\n",
        "    \"\"\"\n",
        "    if sys.platform == 'win32':\n",
        "        raise NotImplementedError(\"Implement this!\")\n",
        "    elif sys.platform == 'linux':\n",
        "        path = '/usr/local/cuda/version.txt'\n",
        "        if os.path.isfile(path):\n",
        "            with open(path, 'r') as f:\n",
        "                data = f.read().replace('\\n','')\n",
        "            return data\n",
        "        else:\n",
        "            return \"No CUDA in this machine\"\n",
        "    elif sys.platform == 'darwin':\n",
        "        raise NotImplementedError(\"Find a Mac with GPU and implement this!\")\n",
        "    else:\n",
        "        raise ValueError(\"Not in Windows, Linux or Mac\")\n",
        "        \n",
        "    \n",
        "def format_dictionary(dct, indent=4):\n",
        "    \"\"\"Formats a dictionary to be printed\n",
        "    Parameters:\n",
        "        dct (dict): Dictionary.\n",
        "        indent (int): Indentation value.\n",
        "    Returns:\n",
        "        result (str): Formatted dictionary ready to be printed\n",
        "    Examples:\n",
        "        >>> dct = {'bkey':1, 'akey':2}\n",
        "        >>> print(format_dictionary(dct))\n",
        "        {\n",
        "            \"akey\": 2,\n",
        "            \"bkey\": 1\n",
        "        }\n",
        "    \"\"\"\n",
        "    return json.dumps(dct, indent=indent, sort_keys=True)\n",
        "\n",
        "\n",
        "\n",
        "def get_filenames_in_folder(folderpath):\n",
        "    \"\"\" Return the files names in a folder.\n",
        "    Parameters:\n",
        "        folderpath (str): folder path\n",
        "    Returns:\n",
        "        number (list): list of files\n",
        "    Examples:\n",
        "        >>> get_filenames_in_folder('C:/run3x/codebase/python/minsc')\n",
        "        ['paths.py', 'system_info.py', '__init__.py']\n",
        "\n",
        "    \"\"\"\n",
        "    names = [os.path.basename(x) for x in glob.glob(os.path.join(folderpath, '*'))]\n",
        "    return sorted(names)\n",
        "\n",
        "\n",
        "def get_files_in_folder_recursively(folderpath):\n",
        "    \"\"\" Return the files inside a folder recursivaly.\n",
        "    Parameters:\n",
        "        folderpath (str): folder path\n",
        "    Returns:\n",
        "        filelist (list): list of files\n",
        "    Examples:\n",
        "        >>> get_files_in_folder_recursively(r'C:\\\\run3x\\\\codebase\\\\command_line')\n",
        "        ['linux\\\\compress.txt', 'linux\\\\paths.txt', 'windows\\\\resources_management.txt']\n",
        "    \"\"\"\n",
        "    if folderpath[-1] != os.path.sep: #Add final '/' if it doesn't exist\n",
        "        folderpath += os.path.sep\n",
        "    names = [x.replace(folderpath,'') for x in glob.iglob(folderpath+'/**', recursive=True) if os.path.isfile(x)]\n",
        "    return sorted(names)\n",
        "\n",
        "\n",
        "\n",
        "def _make_directory(directory):\n",
        "    \"\"\"Make a directory\"\"\"\n",
        "    if not os.path.isdir(directory):\n",
        "        os.makedirs(directory)\n",
        "\n",
        "        \n",
        "def _create_sets_folders(root_folder, sets_names, target_folder):\n",
        "    \"\"\"Create folder structure\"\"\"\n",
        "    for s in sets_names:\n",
        "        dest = os.path.join(root_folder, s, target_folder)\n",
        "        _make_directory(dest)\n",
        "          \n",
        "                \n",
        "def split_list(py_list, perc_size=[0.8, 0.2], shuffle=False):\n",
        "    \"\"\"Split a list in weighted chunks\n",
        "    Parameters:\n",
        "        py_list (list): A list of elements.\n",
        "        perc_size (list): The percentual size of each chunk size.\n",
        "        shuffle (bool): Shuffle the list or not\n",
        "    Returns:\n",
        "        result_list (list of list): A list of lists with the chunks.\n",
        "    Examples:\n",
        "        >>> split_list(list(range(7)),[0.47,0.33,0.2])\n",
        "        [[0, 1, 2], [3, 4, 5], [6]]\n",
        "        >>> split_list(list(range(10)),[0.6,0.4], True)\n",
        "        [[1, 2, 3, 6, 9, 5], [4, 8, 0, 7]]\n",
        "\n",
        "    \"\"\"\n",
        "    assert sum(perc_size) == 1, \"Percentage sizes do not sum to 1\"\n",
        "    l = py_list[:]\n",
        "    if shuffle:\n",
        "        random.shuffle(l)\n",
        "    # Turn percentages into values between 0 and 1\n",
        "    splits = np.cumsum(perc_size)\n",
        "\n",
        "    # Split doesn't need last percent, it will just take what is left\n",
        "    splits = splits[:-1]\n",
        "\n",
        "    # Turn values into indices\n",
        "    splits *= len(l)\n",
        "\n",
        "    # Turn double indices into integers.\n",
        "    splits = splits.round().astype(np.int)\n",
        "\n",
        "    return [list(chunks) for chunks in np.split(l, splits)]\n",
        "\n",
        "\n",
        "def split_dataset_folder(root_folder, dest_folder, sets_names=['train','val'], sets_sizes=[0.8,0.2], shuffle=False, verbose=False):\n",
        "    \"\"\"Split the folders in a dataset to pytorch format. If the intial format is:\n",
        "    --class1\n",
        "    ----img1.jpg\n",
        "    ----img2.jpg\n",
        "    --class2\n",
        "    ----img1.jpg\n",
        "    ----img2.jpg\n",
        "    It transforms it into:\n",
        "    --train\n",
        "    ----class1\n",
        "    ------img1.jpg\n",
        "    ----class2\n",
        "    ------img1.jpg\n",
        "    --val\n",
        "    ----class1\n",
        "    ------img2.jpg\n",
        "    ----class2\n",
        "    ------img2.jpg   \n",
        "\n",
        "    \"\"\"\n",
        "    assert sum(sets_sizes) == 1, \"Data set sizes do not sum to 1\"\n",
        "    for folder in get_filenames_in_folder(root_folder):\n",
        "        if verbose: print(\"Folder: \", folder)\n",
        "        _create_sets_folders(dest_folder, sets_names, folder)\n",
        "        files = get_filenames_in_folder(os.path.join(root_folder, folder))\n",
        "        files_split = split_list(files, sets_sizes, shuffle)\n",
        "        for split, set_name in zip(files_split, sets_names):\n",
        "            for f in split:\n",
        "                orig = os.path.join(root_folder, folder, f)\n",
        "                dest = os.path.join(dest_folder, set_name, folder)\n",
        "                if verbose: print(\"Copying {} into {}\".format(orig, dest))\n",
        "                shutil.copy2(orig, dest)\n",
        "\n",
        "                \n",
        "def convert_image_dataset_to_grayscale(root_folder, dest_folder, verbose=False):\n",
        "    \"\"\"Convert all the images from a dataset in disk to grayscale\"\"\"\n",
        "    files = get_files_in_folder_recursively(root_folder)\n",
        "    for f in files:\n",
        "        filename = os.path.join(root_folder, f)\n",
        "        if verbose: print(\"Converting {} to grayscale\".format(filename))\n",
        "        img = Image.open(filename)\n",
        "        img_gray = img.convert('L')\n",
        "        dest = os.path.join(dest_folder, f)\n",
        "        try:\n",
        "            img_gray.save(dest)\n",
        "        except FileNotFoundError as e:\n",
        "            if verbose: print(e)\n",
        "            path = os.path.dirname(dest)\n",
        "            if verbose: print(\"Creating folder {}\".format(path))\n",
        "            os.makedirs(path)\n",
        "            img_gray.save(dest)\n",
        "            \n",
        "            \n",
        "def create_dataset(data_dir, batch_size=32, sets=['train', 'val'], verbose=False):\n",
        "    \"\"\"Create a dataset object given the path. On data_dir there should be a train and validation folder\n",
        "    and in each of them there should be the folders containing the data. One folder for each class\n",
        "    \"\"\"\n",
        "    data_transforms = {\n",
        "        'train': transforms.Compose([\n",
        "            transforms.Resize(256),\n",
        "            transforms.RandomResizedCrop(224),\n",
        "            transforms.RandomHorizontalFlip(),\n",
        "            transforms.ToTensor(),\n",
        "            transforms.Normalize([0.485, 0.456, 0.406], [0.229, 0.224, 0.225])\n",
        "        ]),\n",
        "        'val': transforms.Compose([\n",
        "            transforms.Resize(256),\n",
        "            transforms.CenterCrop(224),\n",
        "            transforms.ToTensor(),\n",
        "            transforms.Normalize([0.485, 0.456, 0.406], [0.229, 0.224, 0.225])\n",
        "        ]),\n",
        "    }\n",
        "    image_datasets = {x: datasets.ImageFolder(os.path.join(data_dir, x), data_transforms[x]) for x in sets}\n",
        "    dataloaders = {x: DataLoader(image_datasets[x], \n",
        "                                 batch_size=batch_size, \n",
        "                                 shuffle=True, \n",
        "                                 num_workers=get_number_processors()) \n",
        "                   for x in sets}\n",
        "\n",
        "    if verbose:\n",
        "        dataset_sizes = {x: len(image_datasets[x]) for x in sets}\n",
        "        class_names = dataloaders[sets[0]].dataset.class_to_idx\n",
        "        print(\"There are {} clases in the dataset: {}\".format(len(class_names), format_dictionary(class_names)))\n",
        "        print(\"Sets sizes: \", format_dictionary(dataset_sizes))\n",
        "        for x in sets:   \n",
        "            c = Counter(item[1] for item in image_datasets[x])\n",
        "            c = dict(c)\n",
        "            print(\"Number of items in set {}: {}\".format(x, c))\n",
        "    return dataloaders\n",
        "\n",
        "\n",
        "def plot_pytorch_data_stream(dataobject, max_images=8, title=True):\n",
        "    \"\"\"Plot a batch of images\"\"\"\n",
        "    inputs, classes = next(iter(dataobject))  \n",
        "    if max_images > dataobject.batch_size:\n",
        "        max_images = dataobject.batch_size\n",
        "        print(\"Plotting only {} images, which is the batch size\".format(max_images))\n",
        "    inputs = inputs[:max_images,:,:,:]\n",
        "    classes = classes[:max_images]\n",
        "    out = torchvision.utils.make_grid(inputs)\n",
        "    inp = out.numpy().transpose((1, 2, 0))\n",
        "    mean = np.array([0.485, 0.456, 0.406])\n",
        "    std = np.array([0.229, 0.224, 0.225])\n",
        "    inp = std * inp + mean\n",
        "    inp = np.clip(inp, 0, 1)\n",
        "    fig = plt.figure(figsize=(10,3))\n",
        "    plt.imshow(inp)\n",
        "    plt.axis('off')\n",
        "    if title:\n",
        "        class_names = dataobject.dataset.classes\n",
        "        names = [class_names[x] for x in classes]\n",
        "        plt.title(names,fontsize = 10)\n",
        "\n",
        "        \n",
        "def finetune(dataloaders, model_name, sets, num_epochs, num_gpus, lr, momentum, lr_step, lr_epochs, verbose=False):\n",
        "    \"\"\"Finetune all the layers of a model using a dataset loader. \"\"\"\n",
        "    #Class adaptation\n",
        "    num_class = len(dataloaders[sets[0]].dataset.class_to_idx)\n",
        "    model_ft = models.__dict__[model_name](pretrained=True)\n",
        "    num_ftrs = model_ft.fc.in_features\n",
        "    model_ft.fc = nn.Linear(num_ftrs, num_class)\n",
        "    \n",
        "    #gpus\n",
        "    if num_gpus > 1: \n",
        "        model_ft = nn.DataParallel(model_ft)\n",
        "    model_ft = model_ft.cuda()\n",
        "    \n",
        "    #loss\n",
        "    criterion = nn.CrossEntropyLoss()\n",
        "\n",
        "    # All parameters are being optimized\n",
        "    optimizer = SGD(model_ft.parameters(), lr=lr, momentum=momentum)\n",
        "\n",
        "    # Decay LR by a factor of lr_step every lr_epochs epochs\n",
        "    exp_lr_scheduler = lr_scheduler.StepLR(optimizer, step_size=lr_epochs, gamma=lr_step)\n",
        "    model_ft = train_model(dataloaders, model_ft, sets, criterion, optimizer, exp_lr_scheduler, \n",
        "                           num_epochs=num_epochs, verbose=verbose)\n",
        "    return model_ft\n",
        "\n",
        "\n",
        "def freeze_and_train(dataloaders, model_name, sets, num_epochs, num_gpus, lr, momentum, lr_step, lr_epochs, verbose=False):\n",
        "    \"\"\"Freezes all layers but the last one and train the last layer using a dataset loader\"\"\"\n",
        "    #Class adaptation\n",
        "    num_class = len(dataloaders[sets[0]].dataset.class_to_idx)\n",
        "    model_conv = models.__dict__[model_name](pretrained=True)\n",
        "    for param in model_conv.parameters(): #params have requires_grad=True by default\n",
        "        param.requires_grad = False\n",
        "    num_ftrs = model_conv.fc.in_features\n",
        "    model_conv.fc = nn.Linear(num_ftrs, num_class)\n",
        "    \n",
        "    #gpus\n",
        "    if num_gpus > 1: \n",
        "        model_conv = nn.DataParallel(model_conv)\n",
        "    model_conv = model_conv.cuda()\n",
        "    \n",
        "    #loss\n",
        "    criterion = nn.CrossEntropyLoss()\n",
        "\n",
        "    # Only parameters of final layer are being optimized \n",
        "    if num_gpus > 1:\n",
        "        params = model_conv.module.fc.parameters()\n",
        "    else:\n",
        "        params = model_conv.fc.parameters()\n",
        "    optimizer = SGD(params, lr=lr, momentum=momentum)\n",
        "\n",
        "    # Decay LR by a factor of lr_step every lr_epochs epochs\n",
        "    exp_lr_scheduler = lr_scheduler.StepLR(optimizer, step_size=lr_epochs, gamma=lr_step)\n",
        "    model_conv = train_model(dataloaders, model_conv, sets, criterion, optimizer, exp_lr_scheduler, \n",
        "                             num_epochs=num_epochs, verbose=verbose)\n",
        "    return model_conv\n",
        "\n",
        "\n",
        "def freeze_and_train2(dataloaders, model_name, sets, num_epochs, num_gpus, lr, momentum, lr_step, lr_epochs, verbose=False):\n",
        "    \"\"\"Freezes all layers but the last two and train the last two layers using a dataset loader\"\"\"\n",
        "    #Class adaptation\n",
        "    num_class = len(dataloaders[sets[0]].dataset.class_to_idx)\n",
        "    model_conv = models.__dict__[model_name](pretrained=True)\n",
        "    for i,param in enumerate(model_conv.parameters()): #params have requires_grad=True by default\n",
        "        if i >= 57:\n",
        "          break\n",
        "        param.requires_grad = False\n",
        "    num_ftrs = model_conv.fc.in_features\n",
        "    model_conv.fc = nn.Linear(num_ftrs, num_class)\n",
        "    \n",
        "    #gpus\n",
        "    if num_gpus > 1: \n",
        "        model_conv = nn.DataParallel(model_conv)\n",
        "    model_conv = model_conv.cuda()\n",
        "    \n",
        "    #loss\n",
        "    criterion = nn.CrossEntropyLoss()\n",
        "\n",
        "    params = model_conv.parameters()\n",
        "    optimizer = SGD(params, lr=lr, momentum=momentum)\n",
        "\n",
        "    # Decay LR by a factor of lr_step every lr_epochs epochs\n",
        "    exp_lr_scheduler = lr_scheduler.StepLR(optimizer, step_size=lr_epochs, gamma=lr_step)\n",
        "    model_conv = train_model(dataloaders, model_conv, sets, criterion, optimizer, exp_lr_scheduler, \n",
        "                             num_epochs=num_epochs, verbose=verbose)\n",
        "    return model_conv\n",
        "\n",
        "\n",
        "def freeze_and_train3(dataloaders, model_name, sets, num_epochs, num_gpus, lr, momentum, lr_step, lr_epochs, verbose=False):\n",
        "    \"\"\"Freezes half layers \"\"\"\n",
        "    #Class adaptation\n",
        "    num_class = len(dataloaders[sets[0]].dataset.class_to_idx)\n",
        "    model_conv = models.__dict__[model_name](pretrained=True)\n",
        "    s = sample(range(0,60,3),10)\n",
        "    for i,param in enumerate(model_conv.parameters()): #params have requires_grad=True by default\n",
        "        if i in s:\n",
        "          param.requires_grad = False\n",
        "    num_ftrs = model_conv.fc.in_features\n",
        "    model_conv.fc = nn.Linear(num_ftrs, num_class)\n",
        "    \n",
        "    #gpus\n",
        "    if num_gpus > 1: \n",
        "        model_conv = nn.DataParallel(model_conv)\n",
        "    model_conv = model_conv.cuda()\n",
        "    \n",
        "    #loss\n",
        "    criterion = nn.CrossEntropyLoss()\n",
        "\n",
        "    params = model_conv.parameters()\n",
        "    optimizer = SGD(params, lr=lr, momentum=momentum)\n",
        "\n",
        "    # Decay LR by a factor of lr_step every lr_epochs epochs\n",
        "    exp_lr_scheduler = lr_scheduler.StepLR(optimizer, step_size=lr_epochs, gamma=lr_step)\n",
        "    model_conv = train_model(dataloaders, model_conv, sets, criterion, optimizer, exp_lr_scheduler, \n",
        "                             num_epochs=num_epochs, verbose=verbose)\n",
        "    return model_conv\n",
        "\n",
        "\n",
        "def freeze_and_train4(dataloaders, model_name, sets, num_epochs, num_gpus, lr, momentum, lr_step, lr_epochs, verbose=False):\n",
        "    \"\"\"Freezes all layers but the last two and train the last two layers using a dataset loader\"\"\"\n",
        "    #Class adaptation\n",
        "    num_class = len(dataloaders[sets[0]].dataset.class_to_idx)\n",
        "    model_conv = models.__dict__[model_name](pretrained=True)\n",
        "    for i,param in enumerate(model_conv.parameters()): #params have requires_grad=True by default\n",
        "        if i >= 30:\n",
        "          break\n",
        "        param.requires_grad = False\n",
        "    num_ftrs = model_conv.fc.in_features\n",
        "    model_conv.fc = nn.Linear(num_ftrs, num_class)\n",
        "    \n",
        "    #gpus\n",
        "    if num_gpus > 1: \n",
        "        model_conv = nn.DataParallel(model_conv)\n",
        "    model_conv = model_conv.cuda()\n",
        "    \n",
        "    #loss\n",
        "    criterion = nn.CrossEntropyLoss()\n",
        "\n",
        "    params = model_conv.parameters()\n",
        "    optimizer = SGD(params, lr=lr, momentum=momentum)\n",
        "\n",
        "    # Decay LR by a factor of lr_step every lr_epochs epochs\n",
        "    exp_lr_scheduler = lr_scheduler.StepLR(optimizer, step_size=lr_epochs, gamma=lr_step)\n",
        "    model_conv = train_model(dataloaders, model_conv, sets, criterion, optimizer, exp_lr_scheduler, \n",
        "                             num_epochs=num_epochs, verbose=verbose)\n",
        "    return model_conv\n",
        "    \n",
        "\n",
        "def train_model(dataloaders, model, sets, criterion, optimizer, scheduler, num_epochs=25, verbose=False):\n",
        "    \"\"\"Train a pytorch model\"\"\"\n",
        "    since = time.time()\n",
        "    dataset_sizes = {x: len(dataloaders[x].dataset) for x in sets}\n",
        "    best_model_wts = copy.deepcopy(model.state_dict())\n",
        "    best_acc = 0.0\n",
        "    num_classes = len(dataloaders[sets[0]].dataset.classes)\n",
        "    confusion_matrix = tnt.meter.ConfusionMeter(num_classes, normalized=False)\n",
        "    metrics = {'train_acc':[],'val_acc':[],'train_loss':[],'val_loss':[], 'cm':[]}\n",
        "    for epoch in range(num_epochs):\n",
        "        if verbose:\n",
        "            print('\\nEpoch {}/{}'.format(epoch + 1, num_epochs))\n",
        "            print('-' * 10)\n",
        "\n",
        "        # Each epoch has a training and validation phase\n",
        "        for phase in sets:\n",
        "            if phase == 'train':\n",
        "                scheduler.step()\n",
        "                model.train(True)  # Set model to training mode\n",
        "            else:\n",
        "                model.train(False)  # Set model to evaluate mode\n",
        "                confusion_matrix.reset()\n",
        "\n",
        "            running_loss = 0.0\n",
        "            running_corrects = 0\n",
        "\n",
        "            # Iterate over data.\n",
        "            for data in dataloaders[phase]:\n",
        "                # get the inputs\n",
        "                inputs, labels = data\n",
        "\n",
        "                # wrap them in Variable\n",
        "                inputs = Variable(inputs.cuda())\n",
        "                labels = Variable(labels.cuda())\n",
        "\n",
        "\n",
        "                # zero the parameter gradients\n",
        "                optimizer.zero_grad()\n",
        "\n",
        "                # forward\n",
        "                outputs = model(inputs)\n",
        "                _, preds = torch.max(outputs.data, 1)\n",
        "                loss = criterion(outputs, labels)\n",
        "\n",
        "                # backward + optimize only if in training phase\n",
        "                if phase == 'train':\n",
        "                    loss.backward()\n",
        "                    optimizer.step()\n",
        "                else:\n",
        "                    confusion_matrix.add(outputs.data, labels.data)\n",
        "                    \n",
        "                # statistics\n",
        "                running_loss += loss.item()\n",
        "                running_corrects += torch.sum(preds == labels.data)\n",
        "\n",
        "            #metrics\n",
        "            epoch_loss = running_loss / dataset_sizes[phase]\n",
        "            epoch_acc = running_corrects / dataset_sizes[phase]\n",
        "            if verbose: print('{} Loss: {:.4f} Acc: {:.4f}'.format(phase, epoch_loss, epoch_acc))\n",
        "            if phase == 'train':\n",
        "                metrics['train_acc'].append(epoch_acc)\n",
        "                metrics['train_loss'].append(epoch_loss)\n",
        "            else:\n",
        "                metrics['val_acc'].append(epoch_acc)\n",
        "                metrics['val_loss'].append(epoch_loss)\n",
        "                cm = confusion_matrix.value().copy()\n",
        "                metrics['cm'].append(cm)\n",
        "                \n",
        "            # deep copy the model\n",
        "            if phase == 'val' and epoch_acc > best_acc:\n",
        "                best_acc = epoch_acc\n",
        "                best_model_wts = copy.deepcopy(model.state_dict())\n",
        "\n",
        "    time_elapsed = time.time() - since\n",
        "    if verbose:\n",
        "        print('Training complete in {:.0f}m {:.0f}s'.format(time_elapsed // 60, time_elapsed % 60))\n",
        "        print('Best val Acc: {:4f}'.format(best_acc))\n",
        "\n",
        "    # load best model weights\n",
        "    model.load_state_dict(best_model_wts)\n",
        "    return model, metrics\n",
        "\n",
        "\n",
        "def available_models():\n",
        "    \"\"\"Return available pytorch models, callable using `models.__dict__[name]`\"\"\"\n",
        "    model_names = sorted(name for name in models.__dict__  if name.islower() and not name.startswith(\"__\") and \n",
        "                         callable(models.__dict__[name]))\n",
        "    return model_names\n",
        "\n",
        "\n",
        "def plot_metrics(metrics, title=None):\n",
        "    \"\"\"Plot metrics from training. metrics is a dict containing 'train_acc', 'val_acc', 'train_loss' and\n",
        "    'val_loss', each of them contains the metrics values in a list\"\"\"\n",
        "    max_epochs = len(metrics['train_acc']) + 1\n",
        "    epochs = range(1, max_epochs)\n",
        "    epochs_dx = np.linspace(epochs[0], epochs[-1], num=max_epochs*4, endpoint=True)\n",
        "\n",
        "    train_acc = []\n",
        "    for i in range(EPOCHS):\n",
        "      train_acc.append(metrics['train_acc'][i].cpu().float()) \n",
        "    val_acc = []\n",
        "    for i in range(EPOCHS):\n",
        "      val_acc.append(metrics['val_acc'][i].cpu().float())\n",
        "\n",
        "    s_train_acc = interp1d(epochs, train_acc, kind='cubic')    \n",
        "    s_val_acc = interp1d(epochs, val_acc, kind='cubic')    \n",
        "    s_train_loss = interp1d(epochs, metrics['train_loss'], kind='cubic')    \n",
        "    s_val_loss = interp1d(epochs, metrics['val_loss'], kind='cubic')    \n",
        "\n",
        "    fig, ax = plt.subplots(1, 2)\n",
        "    fig.subplots_adjust(right=2, top=0.85)\n",
        "    if title is not None:\n",
        "        st = fig.suptitle(title, fontsize=16)\n",
        "        st.set_x(1)\n",
        "    ax[0].plot(epochs, train_acc, 'b.', label='train')\n",
        "    ax[0].plot(epochs_dx, s_train_acc(epochs_dx), 'b')\n",
        "    ax[0].plot(epochs, val_acc, 'g.', label='val')\n",
        "    ax[0].plot(epochs_dx, s_val_acc(epochs_dx), 'g')\n",
        "    ax[0].legend( loc=\"lower right\")\n",
        "    ax[0].set_title(\"Accuracy\")\n",
        "    ax[0].set_xlabel(\"Epochs\")\n",
        "    ax[0].xaxis.set_major_locator(MultipleLocator(1)) #only integers in axis multiples of 1\n",
        "    \n",
        "    ax[1].plot(epochs, metrics['train_loss'], 'b.', label='train')\n",
        "    ax[1].plot(epochs_dx, s_train_loss(epochs_dx), 'b')\n",
        "    ax[1].plot(epochs, metrics['val_loss'], 'g.', label='val')\n",
        "    ax[1].plot(epochs_dx, s_val_loss(epochs_dx), 'g')\n",
        "    ax[1].legend(loc=\"upper right\")\n",
        "    ax[1].set_title(\"Loss\")\n",
        "    ax[1].set_xlabel(\"Epochs\")\n",
        "    ax[1].xaxis.set_major_locator(MultipleLocator(1))\n",
        "    plt.show()\n",
        "    \n",
        "    \n",
        "def _list_lsun_categories(tag):\n",
        "    \"\"\"List LSUN categories\"\"\"\n",
        "    url = 'http://lsun.cs.princeton.edu/htbin/list.cgi?tag=' + tag\n",
        "    f = requests.get(url)\n",
        "    return json.loads(f.text)\n",
        "\n",
        "\n",
        "def _download_lsun(out_dir, category, set_name, tag):\n",
        "    \"\"\"Download a specific category of LSUN\"\"\"\n",
        "    url = 'http://lsun.cs.princeton.edu/htbin/download.cgi?tag={tag}' \\\n",
        "          '&category={category}&set={set_name}'.format(**locals())\n",
        "    if set_name == 'test':\n",
        "        out_name = 'test_lmdb.zip'\n",
        "    else:\n",
        "        out_name = '{category}_{set_name}_lmdb.zip'.format(**locals())\n",
        "    _make_directory(out_dir)\n",
        "    out_path = os.path.join(out_dir, out_name)\n",
        "    cmd = ['curl', url, '-o', out_path]\n",
        "    print('Downloading', category, set_name, 'set')\n",
        "    subprocess.call(cmd)  \n",
        "    \n",
        "    \n",
        "def download_lsun_dataset(out_dir):\n",
        "    \"\"\"Download LSUN dataset and create pytorch folder structure\n",
        "    source: https://github.com/fyu/lsun\n",
        "    \"\"\"\n",
        "    tag = 'latest'\n",
        "    categories = _list_lsun_categories(tag)\n",
        "    print('Downloading', len(categories), 'categories')\n",
        "    for category in categories:\n",
        "        _download_lsun(out_dir, category, 'train', tag)\n",
        "        _download_lsun(out_dir, category, 'val', tag)\n",
        "    #_download_lsun(args.out_dir, '', 'test', args.tag)\n",
        "\n",
        "    \n",
        "def download_caltech256(out_dir):\n",
        "    \"\"\"Download Caltech256 dataset\"\"\"\n",
        "    url = 'http://www.vision.caltech.edu/Image_Datasets/Caltech256/256_ObjectCategories.tar'\n",
        "    if len(os.listdir(out_dir)) != 0:\n",
        "        print(\"Dataset already donwloaded in {}\".format(out_dir)) \n",
        "    else:\n",
        "        print(\"Downloading {}\".format(url))\n",
        "        filepath = os.path.join(out_dir, 'delete.me')\n",
        "        fname, h = urlretrieve(url, filepath)\n",
        "        print(\"Extracting files from {}\".format(fname))\n",
        "        with tarfile.open(fname) as tar:\n",
        "            tar.extractall(path=out_dir)\n",
        "        os.remove(fname)\n"
      ]
    },
    {
      "cell_type": "code",
      "execution_count": null,
      "metadata": {
        "id": "iumeKfbikAjy"
      },
      "outputs": [],
      "source": [
        "torch.backends.cudnn.benchmark=True # enables cudnn's auto-tuner"
      ]
    },
    {
      "cell_type": "markdown",
      "metadata": {
        "id": "XwvnfJKsGZBB"
      },
      "source": [
        "### connect to Google"
      ]
    },
    {
      "cell_type": "code",
      "execution_count": null,
      "metadata": {
        "colab": {
          "base_uri": "https://localhost:8080/"
        },
        "id": "ymjd734spUUH",
        "outputId": "a1e7a96e-445b-4612-ad4a-b8f8199fd340"
      },
      "outputs": [
        {
          "output_type": "stream",
          "name": "stdout",
          "text": [
            "Mounted at /content/drive/\n"
          ]
        }
      ],
      "source": [
        "from google.colab import drive\n",
        "drive.mount('/content/drive/')"
      ]
    },
    {
      "cell_type": "markdown",
      "metadata": {
        "id": "ivqN9odpkAj1"
      },
      "source": [
        "## Datasets\n",
        "\n",
        "We are going to use different datasets to test the transfer learning routines. We converted all of them to grayscale to analyze how the network behaves with in this color space. We also had to divide the dataset folders into `train` and `validation`, following the structure of pytorch. All the steps to do this are in the notebook [data_prep.ipynb](data_prep.ipynb).\n",
        "\n",
        "Links to source:\n",
        "* [Hymenoptera](https://download.pytorch.org/tutorial/hymenoptera_data.zip), 2 classes and 397 images.\n",
        "* [Simpons](https://www.kaggle.com/alexattia/the-simpsons-characters-dataset/data), 20 classes (subset of total) and 19548 images.\n",
        "* [Dogs vs Cats](https://www.kaggle.com/c/dogs-vs-cats/data), 2 classes and 25000 images.\n",
        "* [Caltech 256](http://www.vision.caltech.edu/Image_Datasets/Caltech256/256_ObjectCategories.tar), 257 classes (yeah, I was also surprised) and 30607 images."
      ]
    },
    {
      "cell_type": "code",
      "execution_count": null,
      "metadata": {
        "id": "t9N3S284kAj1"
      },
      "outputs": [],
      "source": [
        "DATA_ROOT = '/content/drive/My Drive/STAT8002/datadrive'\n",
        "\n",
        "SIMPSONS_ROOT = os.path.join(DATA_ROOT, 'simpsons')"
      ]
    },
    {
      "cell_type": "markdown",
      "metadata": {
        "id": "bQllQzQXkAj1"
      },
      "source": [
        "Here we define the initial parameters."
      ]
    },
    {
      "cell_type": "code",
      "execution_count": null,
      "metadata": {
        "id": "MIonB-ZDkAj2"
      },
      "outputs": [],
      "source": [
        "MODEL_NAME = 'resnet18'\n",
        "BATCH_SIZE = 16\n",
        "SETS = ['train', 'val']\n",
        "NUM_GPUS = 4\n",
        "EPOCHS = 15\n",
        "LR = 0.001\n",
        "LR_STEP = 0.1\n",
        "LR_EPOCHS = 10\n",
        "MOMENTUM = 0.9"
      ]
    },
    {
      "cell_type": "markdown",
      "metadata": {
        "id": "cEb5who5kAj2"
      },
      "source": [
        "Now we are going to load each of the datasets, showing some internal stats for each of them."
      ]
    },
    {
      "cell_type": "code",
      "execution_count": null,
      "metadata": {
        "id": "mbug_aNXHZ0u"
      },
      "outputs": [],
      "source": [
        "data_simpsons = create_dataset(SIMPSONS_ROOT, batch_size=BATCH_SIZE*NUM_GPUS)"
      ]
    },
    {
      "cell_type": "code",
      "execution_count": null,
      "metadata": {
        "id": "AfXekpjXHaDC",
        "colab": {
          "base_uri": "https://localhost:8080/",
          "height": 139
        },
        "outputId": "4707802b-6b95-4df1-8c5d-c8c23063bd9c"
      },
      "outputs": [
        {
          "output_type": "display_data",
          "data": {
            "text/plain": [
              "<Figure size 720x216 with 1 Axes>"
            ],
            "image/png": "[encoded data removed]"
          },
          "metadata": {
            "needs_background": "light"
          }
        }
      ],
      "source": [
        "plot_pytorch_data_stream(data_simpsons['train'], max_images=6)"
      ]
    },
    {
      "cell_type": "markdown",
      "metadata": {
        "id": "sZiJRZkfkAj3"
      },
      "source": [
        "## Training\n",
        "\n",
        "For each dataset, we are going to compute finetunining and freeze and train. \n",
        "\n",
        "**NOTE:** As of now (Dec 2017), PyTorch implementation of parallel data computation is ineficient, so it takes almost the same time to compute finetuning and freezing with 4 GPUs. With 1 GPU freezing is around 2.5 faster than finetuning. They have a [PR](https://github.com/pytorch/pytorch/pull/4216) to solve this. For more info, please refer to this [issue](https://github.com/miguelgfierro/sciblog_support/issues/50)."
      ]
    },
    {
      "cell_type": "code",
      "execution_count": null,
      "metadata": {
        "id": "OzxuOedZkAj3"
      },
      "outputs": [],
      "source": [
        "val_acc_ft = \"Validation accuracy finetuning\"\n",
        "val_acc_fr1 = \"Freeze and train last one layer\"\n",
        "val_acc_fr2 = \"Freeze and train last two layers\"\n",
        "val_acc_fr3 = \"Freeze and train random half of layers\"\n",
        "val_acc_fr4 = \"Freeze and train last half of layers\"\n",
        "df = pd.DataFrame(columns=[val_acc_ft, val_acc_fr1, val_acc_fr2, val_acc_fr3, val_acc_fr4])\n"
      ]
    },
    {
      "cell_type": "markdown",
      "metadata": {
        "collapsed": true,
        "id": "YvtPi-48kAj5"
      },
      "source": [
        "### Simpsons dataset"
      ]
    },
    {
      "cell_type": "code",
      "execution_count": null,
      "metadata": {
        "id": "PQgbkwFgkAj5",
        "colab": {
          "base_uri": "https://localhost:8080/",
          "height": 140,
          "referenced_widgets": [
            "40458666be094877bbc906ae253fad6d",
            "842a6ef54ea8411898901be13e05d31f",
            "69e7216de9bf4832aa9af46ab1dc3d61",
            "a35b0f95b21845e9a7915bbf0d9a5733",
            "4d7c6f5bd11248c3b4569ea7ac6aeb67",
            "31e7ec2b742a4f60841562ca079de2ea",
            "45365e96d16041ff8549a3a3e1e97d99",
            "003b3b0b49ef47be86b6c1dbb10af0e9",
            "1b913c6429ae473b9ad577e4ef66969a",
            "df047f08e15248559080f79773438bf9",
            "a56fe8a0abad4bc586a73b74b70d13b9"
          ]
        },
        "outputId": "f166e33d-7d06-41f3-f18f-0ac5f5939748"
      },
      "outputs": [
        {
          "output_type": "stream",
          "name": "stderr",
          "text": [
            "Downloading: \"https://download.pytorch.org/models/resnet18-f37072fd.pth\" to /root/.cache/torch/hub/checkpoints/resnet18-f37072fd.pth\n"
          ]
        },
        {
          "output_type": "display_data",
          "data": {
            "text/plain": [
              "  0%|          | 0.00/44.7M [00:00<?, ?B/s]"
            ],
            "application/vnd.jupyter.widget-view+json": {
              "version_major": 2,
              "version_minor": 0,
              "model_id": "40458666be094877bbc906ae253fad6d"
            }
          },
          "metadata": {}
        },
        {
          "output_type": "stream",
          "name": "stderr",
          "text": [
            "/usr/local/lib/python3.7/dist-packages/torch/optim/lr_scheduler.py:134: UserWarning: Detected call of `lr_scheduler.step()` before `optimizer.step()`. In PyTorch 1.1.0 and later, you should call them in the opposite order: `optimizer.step()` before `lr_scheduler.step()`.  Failure to do this will result in PyTorch skipping the first value of the learning rate schedule. See more details at https://pytorch.org/docs/stable/optim.html#how-to-adjust-learning-rate\n",
            "  \"https://pytorch.org/docs/stable/optim.html#how-to-adjust-learning-rate\", UserWarning)\n"
          ]
        },
        {
          "output_type": "stream",
          "name": "stdout",
          "text": [
            "0.9818182\n"
          ]
        }
      ],
      "source": [
        "model, metrics = finetune(data_simpsons, MODEL_NAME, SETS, EPOCHS, NUM_GPUS, LR, \n",
        "                          MOMENTUM, LR_STEP, LR_EPOCHS, verbose=False)\n",
        "print(max(metrics['val_acc']).cpu().numpy())"
      ]
    },
    {
      "cell_type": "code",
      "execution_count": null,
      "metadata": {
        "id": "u0xObktqkAj5",
        "colab": {
          "base_uri": "https://localhost:8080/",
          "height": 308
        },
        "outputId": "fecf0424-0a31-42e1-b3a2-4c04b0fe5052"
      },
      "outputs": [
        {
          "output_type": "display_data",
          "data": {
            "text/plain": [
              "<Figure size 432x288 with 2 Axes>"
            ],
            "image/png": "[encoded data removed]"
          },
          "metadata": {
            "needs_background": "light"
          }
        }
      ],
      "source": [
        "dataset_name = \"Dataset Simpsons\"\n",
        "plot_metrics(metrics, dataset_name + \" (finetuning)\")\n",
        "df.at[dataset_name, val_acc_ft] = max(metrics['val_acc']).cpu().numpy()"
      ]
    },
    {
      "cell_type": "code",
      "execution_count": null,
      "metadata": {
        "id": "pZy8DWulkAj5",
        "colab": {
          "base_uri": "https://localhost:8080/",
          "height": 140,
          "referenced_widgets": [
            "2dddf7a0b4d94649b1c679777360d414",
            "37545768818c43e68909603e11b8fbcb",
            "10ab1113855549daa6cf87ae509282fd",
            "c82501d8f633426aace871931a2f3937",
            "233089068e5f4d419f4011e8b7cd8111",
            "92c13dc3549842da8ffb27a05c4a68cd",
            "27a173c4e213439e8c70f2a19700163e",
            "4814e41aa9a644cda5b58b8f4e74ff87",
            "e4d99b88dd5c44c78674ad9a0a8ef1e0",
            "ffc3e9b76a5d4461905be86cbc5b5285",
            "c4f55c506e0246fc979d5c321e02653f"
          ]
        },
        "outputId": "c9b0dd7e-70af-48d9-d3f4-3c008535f4c5"
      },
      "outputs": [
        {
          "output_type": "stream",
          "name": "stderr",
          "text": [
            "Downloading: \"https://download.pytorch.org/models/resnet18-f37072fd.pth\" to /root/.cache/torch/hub/checkpoints/resnet18-f37072fd.pth\n"
          ]
        },
        {
          "output_type": "display_data",
          "data": {
            "text/plain": [
              "  0%|          | 0.00/44.7M [00:00<?, ?B/s]"
            ],
            "application/vnd.jupyter.widget-view+json": {
              "version_major": 2,
              "version_minor": 0,
              "model_id": "2dddf7a0b4d94649b1c679777360d414"
            }
          },
          "metadata": {}
        },
        {
          "output_type": "stream",
          "name": "stderr",
          "text": [
            "/usr/local/lib/python3.7/dist-packages/torch/optim/lr_scheduler.py:134: UserWarning: Detected call of `lr_scheduler.step()` before `optimizer.step()`. In PyTorch 1.1.0 and later, you should call them in the opposite order: `optimizer.step()` before `lr_scheduler.step()`.  Failure to do this will result in PyTorch skipping the first value of the learning rate schedule. See more details at https://pytorch.org/docs/stable/optim.html#how-to-adjust-learning-rate\n",
            "  \"https://pytorch.org/docs/stable/optim.html#how-to-adjust-learning-rate\", UserWarning)\n"
          ]
        },
        {
          "output_type": "stream",
          "name": "stdout",
          "text": [
            "0.71818185\n"
          ]
        }
      ],
      "source": [
        "model, metrics = freeze_and_train(data_simpsons, MODEL_NAME, SETS, EPOCHS, NUM_GPUS, LR, \n",
        "                                  MOMENTUM, LR_STEP, LR_EPOCHS, verbose=False)\n",
        "print(max(metrics['val_acc']).cpu().numpy())"
      ]
    },
    {
      "cell_type": "code",
      "execution_count": null,
      "metadata": {
        "id": "XeP09SwckAj6",
        "colab": {
          "base_uri": "https://localhost:8080/",
          "height": 308
        },
        "outputId": "f09599cb-a5c8-4db7-e66a-59fe0459e58b"
      },
      "outputs": [
        {
          "output_type": "display_data",
          "data": {
            "text/plain": [
              "<Figure size 432x288 with 2 Axes>"
            ],
            "image/png": "[encoded data removed]"
          },
          "metadata": {
            "needs_background": "light"
          }
        }
      ],
      "source": [
        "dataset_name = \"Dataset Simpsons\"\n",
        "plot_metrics(metrics, dataset_name + \" (freeze and train last one layer)\")\n",
        "df.at[dataset_name, val_acc_fr1] = max(metrics['val_acc']).cpu().numpy()"
      ]
    },
    {
      "cell_type": "code",
      "source": [
        "model, metrics = freeze_and_train2(data_simpsons, MODEL_NAME, SETS, EPOCHS, 1, LR, \n",
        "                                  MOMENTUM, LR_STEP, LR_EPOCHS, verbose=False)\n",
        "print(max(metrics['val_acc']).cpu().numpy())"
      ],
      "metadata": {
        "colab": {
          "base_uri": "https://localhost:8080/"
        },
        "id": "uXXvKOsdefjq",
        "outputId": "fed11fab-8a2e-4448-9865-55de2e683d45"
      },
      "execution_count": null,
      "outputs": [
        {
          "output_type": "stream",
          "name": "stderr",
          "text": [
            "/usr/local/lib/python3.7/dist-packages/torch/optim/lr_scheduler.py:134: UserWarning: Detected call of `lr_scheduler.step()` before `optimizer.step()`. In PyTorch 1.1.0 and later, you should call them in the opposite order: `optimizer.step()` before `lr_scheduler.step()`.  Failure to do this will result in PyTorch skipping the first value of the learning rate schedule. See more details at https://pytorch.org/docs/stable/optim.html#how-to-adjust-learning-rate\n",
            "  \"https://pytorch.org/docs/stable/optim.html#how-to-adjust-learning-rate\", UserWarning)\n"
          ]
        },
        {
          "output_type": "stream",
          "name": "stdout",
          "text": [
            "0.80707073\n"
          ]
        }
      ]
    },
    {
      "cell_type": "code",
      "source": [
        "dataset_name = \"Dataset Simpsons\"\n",
        "plot_metrics(metrics, dataset_name + \" (freeze and train last two layers)\")\n",
        "df.at[dataset_name, val_acc_fr2] = max(metrics['val_acc']).cpu().numpy()"
      ],
      "metadata": {
        "id": "qQN9ffXJefwZ",
        "colab": {
          "base_uri": "https://localhost:8080/",
          "height": 308
        },
        "outputId": "977579e1-22fa-46f2-a581-da5b2a779473"
      },
      "execution_count": null,
      "outputs": [
        {
          "output_type": "display_data",
          "data": {
            "text/plain": [
              "<Figure size 432x288 with 2 Axes>"
            ],
            "image/png": "[encoded data removed]"
          },
          "metadata": {
            "needs_background": "light"
          }
        }
      ]
    },
    {
      "cell_type": "code",
      "source": [
        "model, metrics = freeze_and_train3(data_simpsons, MODEL_NAME, SETS, EPOCHS, 1, LR, \n",
        "                                  MOMENTUM, LR_STEP, LR_EPOCHS, verbose=False)\n",
        "print(max(metrics['val_acc']).cpu().numpy())"
      ],
      "metadata": {
        "colab": {
          "base_uri": "https://localhost:8080/"
        },
        "id": "3VnlWZI_ef0R",
        "outputId": "026db2d8-7006-42d7-d0ad-a5e51e22ea19"
      },
      "execution_count": null,
      "outputs": [
        {
          "output_type": "stream",
          "name": "stderr",
          "text": [
            "/usr/local/lib/python3.7/dist-packages/torch/optim/lr_scheduler.py:134: UserWarning: Detected call of `lr_scheduler.step()` before `optimizer.step()`. In PyTorch 1.1.0 and later, you should call them in the opposite order: `optimizer.step()` before `lr_scheduler.step()`.  Failure to do this will result in PyTorch skipping the first value of the learning rate schedule. See more details at https://pytorch.org/docs/stable/optim.html#how-to-adjust-learning-rate\n",
            "  \"https://pytorch.org/docs/stable/optim.html#how-to-adjust-learning-rate\", UserWarning)\n"
          ]
        },
        {
          "output_type": "stream",
          "name": "stdout",
          "text": [
            "0.9707071\n"
          ]
        }
      ]
    },
    {
      "cell_type": "code",
      "source": [
        "dataset_name = \"Dataset Simpsons\"\n",
        "plot_metrics(metrics, dataset_name + \" (freeze and train random half of layers)\")\n",
        "df.at[dataset_name, val_acc_fr3] = max(metrics['val_acc']).cpu().numpy()"
      ],
      "metadata": {
        "colab": {
          "base_uri": "https://localhost:8080/",
          "height": 308
        },
        "id": "AsY6Edoref3r",
        "outputId": "fb8ea332-4863-4b71-f6f4-482fac4a94ea"
      },
      "execution_count": null,
      "outputs": [
        {
          "output_type": "display_data",
          "data": {
            "text/plain": [
              "<Figure size 432x288 with 2 Axes>"
            ],
            "image/png": "[encoded data removed]"
          },
          "metadata": {
            "needs_background": "light"
          }
        }
      ]
    },
    {
      "cell_type": "code",
      "source": [
        "model, metrics = freeze_and_train4(data_simpsons, MODEL_NAME, SETS, EPOCHS, 1, LR, \n",
        "                                  MOMENTUM, LR_STEP, LR_EPOCHS, verbose=False)\n",
        "print(max(metrics['val_acc']).cpu().numpy())"
      ],
      "metadata": {
        "colab": {
          "base_uri": "https://localhost:8080/"
        },
        "id": "eWAZPtsXLyIi",
        "outputId": "51d338eb-3c88-4717-e302-4de4efa4a2be"
      },
      "execution_count": null,
      "outputs": [
        {
          "output_type": "stream",
          "name": "stderr",
          "text": [
            "/usr/local/lib/python3.7/dist-packages/torch/optim/lr_scheduler.py:134: UserWarning: Detected call of `lr_scheduler.step()` before `optimizer.step()`. In PyTorch 1.1.0 and later, you should call them in the opposite order: `optimizer.step()` before `lr_scheduler.step()`.  Failure to do this will result in PyTorch skipping the first value of the learning rate schedule. See more details at https://pytorch.org/docs/stable/optim.html#how-to-adjust-learning-rate\n",
            "  \"https://pytorch.org/docs/stable/optim.html#how-to-adjust-learning-rate\", UserWarning)\n"
          ]
        },
        {
          "output_type": "stream",
          "name": "stdout",
          "text": [
            "0.97171724\n"
          ]
        }
      ]
    },
    {
      "cell_type": "code",
      "source": [
        "dataset_name = \"Dataset Simpsons\"\n",
        "plot_metrics(metrics, dataset_name + \" (freeze and train last half of layers)\")\n",
        "df.at[dataset_name, val_acc_fr4] = max(metrics['val_acc']).cpu().numpy()"
      ],
      "metadata": {
        "colab": {
          "base_uri": "https://localhost:8080/",
          "height": 308
        },
        "id": "LlD_q550LzAP",
        "outputId": "e9143383-62e2-4600-af1c-4db17356aef7"
      },
      "execution_count": null,
      "outputs": [
        {
          "output_type": "display_data",
          "data": {
            "text/plain": [
              "<Figure size 432x288 with 2 Axes>"
            ],
            "image/png": "[encoded data removed]"
          },
          "metadata": {
            "needs_background": "light"
          }
        }
      ]
    },
    {
      "cell_type": "code",
      "source": [
        "df"
      ],
      "metadata": {
        "colab": {
          "base_uri": "https://localhost:8080/",
          "height": 159
        },
        "id": "sA44HUw3fsQ_",
        "outputId": "a55d3437-2e2a-4486-ceb6-64a67793fb2d"
      },
      "execution_count": null,
      "outputs": [
        {
          "output_type": "execute_result",
          "data": {
            "text/plain": [
              "                 Validation accuracy finetuning  \\\n",
              "Dataset Simpsons                      0.9818182   \n",
              "\n",
              "                 Validation accuracy freezing last one layer  \\\n",
              "Dataset Simpsons                                   0.7141414   \n",
              "\n",
              "                 Validation accuracy freezing last two layers  \\\n",
              "Dataset Simpsons                                   0.80808085   \n",
              "\n",
              "                 Validation accuracy freezing half of layers  \n",
              "Dataset Simpsons                                   0.9737374  "
            ],
            "text/html": [
              "\n",
              "  <div id=\"df-763f4827-a5b8-4335-9174-c7f2879b066c\">\n",
              "    <div class=\"colab-df-container\">\n",
              "      <div>\n",
              "<style scoped>\n",
              "    .dataframe tbody tr th:only-of-type {\n",
              "        vertical-align: middle;\n",
              "    }\n",
              "\n",
              "    .dataframe tbody tr th {\n",
              "        vertical-align: top;\n",
              "    }\n",
              "\n",
              "    .dataframe thead th {\n",
              "        text-align: right;\n",
              "    }\n",
              "</style>\n",
              "<table border=\"1\" class=\"dataframe\">\n",
              "  <thead>\n",
              "    <tr style=\"text-align: right;\">\n",
              "      <th></th>\n",
              "      <th>Validation accuracy finetuning</th>\n",
              "      <th>Validation accuracy freezing last one layer</th>\n",
              "      <th>Validation accuracy freezing last two layers</th>\n",
              "      <th>Validation accuracy freezing half of layers</th>\n",
              "    </tr>\n",
              "  </thead>\n",
              "  <tbody>\n",
              "    <tr>\n",
              "      <th>Dataset Simpsons</th>\n",
              "      <td>0.9818182</td>\n",
              "      <td>0.7141414</td>\n",
              "      <td>0.80808085</td>\n",
              "      <td>0.9737374</td>\n",
              "    </tr>\n",
              "  </tbody>\n",
              "</table>\n",
              "</div>\n",
              "      <button class=\"colab-df-convert\" onclick=\"convertToInteractive('df-763f4827-a5b8-4335-9174-c7f2879b066c')\"\n",
              "              title=\"Convert this dataframe to an interactive table.\"\n",
              "              style=\"display:none;\">\n",
              "        \n",
              "  <svg xmlns=\"http://www.w3.org/2000/svg\" height=\"24px\"viewBox=\"0 0 24 24\"\n",
              "       width=\"24px\">\n",
              "    <path d=\"M0 0h24v24H0V0z\" fill=\"none\"/>\n",
              "    <path d=\"M18.56 5.44l.94 2.06.94-2.06 2.06-.94-2.06-.94-.94-2.06-.94 2.06-2.06.94zm-11 1L8.5 8.5l.94-2.06 2.06-.94-2.06-.94L8.5 2.5l-.94 2.06-2.06.94zm10 10l.94 2.06.94-2.06 2.06-.94-2.06-.94-.94-2.06-.94 2.06-2.06.94z\"/><path d=\"M17.41 7.96l-1.37-1.37c-.4-.4-.92-.59-1.43-.59-.52 0-1.04.2-1.43.59L10.3 9.45l-7.72 7.72c-.78.78-.78 2.05 0 2.83L4 21.41c.39.39.9.59 1.41.59.51 0 1.02-.2 1.41-.59l7.78-7.78 2.81-2.81c.8-.78.8-2.07 0-2.86zM5.41 20L4 18.59l7.72-7.72 1.47 1.35L5.41 20z\"/>\n",
              "  </svg>\n",
              "      </button>\n",
              "      \n",
              "  <style>\n",
              "    .colab-df-container {\n",
              "      display:flex;\n",
              "      flex-wrap:wrap;\n",
              "      gap: 12px;\n",
              "    }\n",
              "\n",
              "    .colab-df-convert {\n",
              "      background-color: #E8F0FE;\n",
              "      border: none;\n",
              "      border-radius: 50%;\n",
              "      cursor: pointer;\n",
              "      display: none;\n",
              "      fill: #1967D2;\n",
              "      height: 32px;\n",
              "      padding: 0 0 0 0;\n",
              "      width: 32px;\n",
              "    }\n",
              "\n",
              "    .colab-df-convert:hover {\n",
              "      background-color: #E2EBFA;\n",
              "      box-shadow: 0px 1px 2px rgba(60, 64, 67, 0.3), 0px 1px 3px 1px rgba(60, 64, 67, 0.15);\n",
              "      fill: #174EA6;\n",
              "    }\n",
              "\n",
              "    [theme=dark] .colab-df-convert {\n",
              "      background-color: #3B4455;\n",
              "      fill: #D2E3FC;\n",
              "    }\n",
              "\n",
              "    [theme=dark] .colab-df-convert:hover {\n",
              "      background-color: #434B5C;\n",
              "      box-shadow: 0px 1px 3px 1px rgba(0, 0, 0, 0.15);\n",
              "      filter: drop-shadow(0px 1px 2px rgba(0, 0, 0, 0.3));\n",
              "      fill: #FFFFFF;\n",
              "    }\n",
              "  </style>\n",
              "\n",
              "      <script>\n",
              "        const buttonEl =\n",
              "          document.querySelector('#df-763f4827-a5b8-4335-9174-c7f2879b066c button.colab-df-convert');\n",
              "        buttonEl.style.display =\n",
              "          google.colab.kernel.accessAllowed ? 'block' : 'none';\n",
              "\n",
              "        async function convertToInteractive(key) {\n",
              "          const element = document.querySelector('#df-763f4827-a5b8-4335-9174-c7f2879b066c');\n",
              "          const dataTable =\n",
              "            await google.colab.kernel.invokeFunction('convertToInteractive',\n",
              "                                                     [key], {});\n",
              "          if (!dataTable) return;\n",
              "\n",
              "          const docLinkHtml = 'Like what you see? Visit the ' +\n",
              "            '<a target=\"_blank\" href=https://colab.research.google.com/notebooks/data_table.ipynb>data table notebook</a>'\n",
              "            + ' to learn more about interactive tables.';\n",
              "          element.innerHTML = '';\n",
              "          dataTable['output_type'] = 'display_data';\n",
              "          await google.colab.output.renderOutput(dataTable, element);\n",
              "          const docLink = document.createElement('div');\n",
              "          docLink.innerHTML = docLinkHtml;\n",
              "          element.appendChild(docLink);\n",
              "        }\n",
              "      </script>\n",
              "    </div>\n",
              "  </div>\n",
              "  "
            ]
          },
          "metadata": {},
          "execution_count": 26
        }
      ]
    },
    {
      "cell_type": "code",
      "source": [],
      "metadata": {
        "id": "Nj7zhssojx9w"
      },
      "execution_count": null,
      "outputs": []
    }
  ],
  "metadata": {
    "accelerator": "GPU",
    "anaconda-cloud": {},
    "colab": {
      "provenance": []
    },
    "kernelspec": {
      "display_name": "Python 3",
      "language": "python",
      "name": "python3"
    },
    "language_info": {
      "codemirror_mode": {
        "name": "ipython",
        "version": 3
      },
      "file_extension": ".py",
      "mimetype": "text/x-python",
      "name": "python",
      "nbconvert_exporter": "python",
      "pygments_lexer": "ipython3",
      "version": "3.8.8"
    },
    "widgets": {
      "application/vnd.jupyter.widget-state+json": {
        "40458666be094877bbc906ae253fad6d": {
          "model_module": "@jupyter-widgets/controls",
          "model_name": "HBoxModel",
          "model_module_version": "1.5.0",
          "state": {
            "_dom_classes": [],
            "_model_module": "@jupyter-widgets/controls",
            "_model_module_version": "1.5.0",
            "_model_name": "HBoxModel",
            "_view_count": null,
            "_view_module": "@jupyter-widgets/controls",
            "_view_module_version": "1.5.0",
            "_view_name": "HBoxView",
            "box_style": "",
            "children": [
              "IPY_MODEL_842a6ef54ea8411898901be13e05d31f",
              "IPY_MODEL_69e7216de9bf4832aa9af46ab1dc3d61",
              "IPY_MODEL_a35b0f95b21845e9a7915bbf0d9a5733"
            ],
            "layout": "IPY_MODEL_4d7c6f5bd11248c3b4569ea7ac6aeb67"
          }
        },
        "842a6ef54ea8411898901be13e05d31f": {
          "model_module": "@jupyter-widgets/controls",
          "model_name": "HTMLModel",
          "model_module_version": "1.5.0",
          "state": {
            "_dom_classes": [],
            "_model_module": "@jupyter-widgets/controls",
            "_model_module_version": "1.5.0",
            "_model_name": "HTMLModel",
            "_view_count": null,
            "_view_module": "@jupyter-widgets/controls",
            "_view_module_version": "1.5.0",
            "_view_name": "HTMLView",
            "description": "",
            "description_tooltip": null,
            "layout": "IPY_MODEL_31e7ec2b742a4f60841562ca079de2ea",
            "placeholder": "​",
            "style": "IPY_MODEL_45365e96d16041ff8549a3a3e1e97d99",
            "value": "100%"
          }
        },
        "69e7216de9bf4832aa9af46ab1dc3d61": {
          "model_module": "@jupyter-widgets/controls",
          "model_name": "FloatProgressModel",
          "model_module_version": "1.5.0",
          "state": {
            "_dom_classes": [],
            "_model_module": "@jupyter-widgets/controls",
            "_model_module_version": "1.5.0",
            "_model_name": "FloatProgressModel",
            "_view_count": null,
            "_view_module": "@jupyter-widgets/controls",
            "_view_module_version": "1.5.0",
            "_view_name": "ProgressView",
            "bar_style": "success",
            "description": "",
            "description_tooltip": null,
            "layout": "IPY_MODEL_003b3b0b49ef47be86b6c1dbb10af0e9",
            "max": 46830571,
            "min": 0,
            "orientation": "horizontal",
            "style": "IPY_MODEL_1b913c6429ae473b9ad577e4ef66969a",
            "value": 46830571
          }
        },
        "a35b0f95b21845e9a7915bbf0d9a5733": {
          "model_module": "@jupyter-widgets/controls",
          "model_name": "HTMLModel",
          "model_module_version": "1.5.0",
          "state": {
            "_dom_classes": [],
            "_model_module": "@jupyter-widgets/controls",
            "_model_module_version": "1.5.0",
            "_model_name": "HTMLModel",
            "_view_count": null,
            "_view_module": "@jupyter-widgets/controls",
            "_view_module_version": "1.5.0",
            "_view_name": "HTMLView",
            "description": "",
            "description_tooltip": null,
            "layout": "IPY_MODEL_df047f08e15248559080f79773438bf9",
            "placeholder": "​",
            "style": "IPY_MODEL_a56fe8a0abad4bc586a73b74b70d13b9",
            "value": " 44.7M/44.7M [00:00&lt;00:00, 103MB/s]"
          }
        },
        "4d7c6f5bd11248c3b4569ea7ac6aeb67": {
          "model_module": "@jupyter-widgets/base",
          "model_name": "LayoutModel",
          "model_module_version": "1.2.0",
          "state": {
            "_model_module": "@jupyter-widgets/base",
            "_model_module_version": "1.2.0",
            "_model_name": "LayoutModel",
            "_view_count": null,
            "_view_module": "@jupyter-widgets/base",
            "_view_module_version": "1.2.0",
            "_view_name": "LayoutView",
            "align_content": null,
            "align_items": null,
            "align_self": null,
            "border": null,
            "bottom": null,
            "display": null,
            "flex": null,
            "flex_flow": null,
            "grid_area": null,
            "grid_auto_columns": null,
            "grid_auto_flow": null,
            "grid_auto_rows": null,
            "grid_column": null,
            "grid_gap": null,
            "grid_row": null,
            "grid_template_areas": null,
            "grid_template_columns": null,
            "grid_template_rows": null,
            "height": null,
            "justify_content": null,
            "justify_items": null,
            "left": null,
            "margin": null,
            "max_height": null,
            "max_width": null,
            "min_height": null,
            "min_width": null,
            "object_fit": null,
            "object_position": null,
            "order": null,
            "overflow": null,
            "overflow_x": null,
            "overflow_y": null,
            "padding": null,
            "right": null,
            "top": null,
            "visibility": null,
            "width": null
          }
        },
        "31e7ec2b742a4f60841562ca079de2ea": {
          "model_module": "@jupyter-widgets/base",
          "model_name": "LayoutModel",
          "model_module_version": "1.2.0",
          "state": {
            "_model_module": "@jupyter-widgets/base",
            "_model_module_version": "1.2.0",
            "_model_name": "LayoutModel",
            "_view_count": null,
            "_view_module": "@jupyter-widgets/base",
            "_view_module_version": "1.2.0",
            "_view_name": "LayoutView",
            "align_content": null,
            "align_items": null,
            "align_self": null,
            "border": null,
            "bottom": null,
            "display": null,
            "flex": null,
            "flex_flow": null,
            "grid_area": null,
            "grid_auto_columns": null,
            "grid_auto_flow": null,
            "grid_auto_rows": null,
            "grid_column": null,
            "grid_gap": null,
            "grid_row": null,
            "grid_template_areas": null,
            "grid_template_columns": null,
            "grid_template_rows": null,
            "height": null,
            "justify_content": null,
            "justify_items": null,
            "left": null,
            "margin": null,
            "max_height": null,
            "max_width": null,
            "min_height": null,
            "min_width": null,
            "object_fit": null,
            "object_position": null,
            "order": null,
            "overflow": null,
            "overflow_x": null,
            "overflow_y": null,
            "padding": null,
            "right": null,
            "top": null,
            "visibility": null,
            "width": null
          }
        },
        "45365e96d16041ff8549a3a3e1e97d99": {
          "model_module": "@jupyter-widgets/controls",
          "model_name": "DescriptionStyleModel",
          "model_module_version": "1.5.0",
          "state": {
            "_model_module": "@jupyter-widgets/controls",
            "_model_module_version": "1.5.0",
            "_model_name": "DescriptionStyleModel",
            "_view_count": null,
            "_view_module": "@jupyter-widgets/base",
            "_view_module_version": "1.2.0",
            "_view_name": "StyleView",
            "description_width": ""
          }
        },
        "003b3b0b49ef47be86b6c1dbb10af0e9": {
          "model_module": "@jupyter-widgets/base",
          "model_name": "LayoutModel",
          "model_module_version": "1.2.0",
          "state": {
            "_model_module": "@jupyter-widgets/base",
            "_model_module_version": "1.2.0",
            "_model_name": "LayoutModel",
            "_view_count": null,
            "_view_module": "@jupyter-widgets/base",
            "_view_module_version": "1.2.0",
            "_view_name": "LayoutView",
            "align_content": null,
            "align_items": null,
            "align_self": null,
            "border": null,
            "bottom": null,
            "display": null,
            "flex": null,
            "flex_flow": null,
            "grid_area": null,
            "grid_auto_columns": null,
            "grid_auto_flow": null,
            "grid_auto_rows": null,
            "grid_column": null,
            "grid_gap": null,
            "grid_row": null,
            "grid_template_areas": null,
            "grid_template_columns": null,
            "grid_template_rows": null,
            "height": null,
            "justify_content": null,
            "justify_items": null,
            "left": null,
            "margin": null,
            "max_height": null,
            "max_width": null,
            "min_height": null,
            "min_width": null,
            "object_fit": null,
            "object_position": null,
            "order": null,
            "overflow": null,
            "overflow_x": null,
            "overflow_y": null,
            "padding": null,
            "right": null,
            "top": null,
            "visibility": null,
            "width": null
          }
        },
        "1b913c6429ae473b9ad577e4ef66969a": {
          "model_module": "@jupyter-widgets/controls",
          "model_name": "ProgressStyleModel",
          "model_module_version": "1.5.0",
          "state": {
            "_model_module": "@jupyter-widgets/controls",
            "_model_module_version": "1.5.0",
            "_model_name": "ProgressStyleModel",
            "_view_count": null,
            "_view_module": "@jupyter-widgets/base",
            "_view_module_version": "1.2.0",
            "_view_name": "StyleView",
            "bar_color": null,
            "description_width": ""
          }
        },
        "df047f08e15248559080f79773438bf9": {
          "model_module": "@jupyter-widgets/base",
          "model_name": "LayoutModel",
          "model_module_version": "1.2.0",
          "state": {
            "_model_module": "@jupyter-widgets/base",
            "_model_module_version": "1.2.0",
            "_model_name": "LayoutModel",
            "_view_count": null,
            "_view_module": "@jupyter-widgets/base",
            "_view_module_version": "1.2.0",
            "_view_name": "LayoutView",
            "align_content": null,
            "align_items": null,
            "align_self": null,
            "border": null,
            "bottom": null,
            "display": null,
            "flex": null,
            "flex_flow": null,
            "grid_area": null,
            "grid_auto_columns": null,
            "grid_auto_flow": null,
            "grid_auto_rows": null,
            "grid_column": null,
            "grid_gap": null,
            "grid_row": null,
            "grid_template_areas": null,
            "grid_template_columns": null,
            "grid_template_rows": null,
            "height": null,
            "justify_content": null,
            "justify_items": null,
            "left": null,
            "margin": null,
            "max_height": null,
            "max_width": null,
            "min_height": null,
            "min_width": null,
            "object_fit": null,
            "object_position": null,
            "order": null,
            "overflow": null,
            "overflow_x": null,
            "overflow_y": null,
            "padding": null,
            "right": null,
            "top": null,
            "visibility": null,
            "width": null
          }
        },
        "a56fe8a0abad4bc586a73b74b70d13b9": {
          "model_module": "@jupyter-widgets/controls",
          "model_name": "DescriptionStyleModel",
          "model_module_version": "1.5.0",
          "state": {
            "_model_module": "@jupyter-widgets/controls",
            "_model_module_version": "1.5.0",
            "_model_name": "DescriptionStyleModel",
            "_view_count": null,
            "_view_module": "@jupyter-widgets/base",
            "_view_module_version": "1.2.0",
            "_view_name": "StyleView",
            "description_width": ""
          }
        },
        "2dddf7a0b4d94649b1c679777360d414": {
          "model_module": "@jupyter-widgets/controls",
          "model_name": "HBoxModel",
          "model_module_version": "1.5.0",
          "state": {
            "_dom_classes": [],
            "_model_module": "@jupyter-widgets/controls",
            "_model_module_version": "1.5.0",
            "_model_name": "HBoxModel",
            "_view_count": null,
            "_view_module": "@jupyter-widgets/controls",
            "_view_module_version": "1.5.0",
            "_view_name": "HBoxView",
            "box_style": "",
            "children": [
              "IPY_MODEL_37545768818c43e68909603e11b8fbcb",
              "IPY_MODEL_10ab1113855549daa6cf87ae509282fd",
              "IPY_MODEL_c82501d8f633426aace871931a2f3937"
            ],
            "layout": "IPY_MODEL_233089068e5f4d419f4011e8b7cd8111"
          }
        },
        "37545768818c43e68909603e11b8fbcb": {
          "model_module": "@jupyter-widgets/controls",
          "model_name": "HTMLModel",
          "model_module_version": "1.5.0",
          "state": {
            "_dom_classes": [],
            "_model_module": "@jupyter-widgets/controls",
            "_model_module_version": "1.5.0",
            "_model_name": "HTMLModel",
            "_view_count": null,
            "_view_module": "@jupyter-widgets/controls",
            "_view_module_version": "1.5.0",
            "_view_name": "HTMLView",
            "description": "",
            "description_tooltip": null,
            "layout": "IPY_MODEL_92c13dc3549842da8ffb27a05c4a68cd",
            "placeholder": "​",
            "style": "IPY_MODEL_27a173c4e213439e8c70f2a19700163e",
            "value": "100%"
          }
        },
        "10ab1113855549daa6cf87ae509282fd": {
          "model_module": "@jupyter-widgets/controls",
          "model_name": "FloatProgressModel",
          "model_module_version": "1.5.0",
          "state": {
            "_dom_classes": [],
            "_model_module": "@jupyter-widgets/controls",
            "_model_module_version": "1.5.0",
            "_model_name": "FloatProgressModel",
            "_view_count": null,
            "_view_module": "@jupyter-widgets/controls",
            "_view_module_version": "1.5.0",
            "_view_name": "ProgressView",
            "bar_style": "success",
            "description": "",
            "description_tooltip": null,
            "layout": "IPY_MODEL_4814e41aa9a644cda5b58b8f4e74ff87",
            "max": 46830571,
            "min": 0,
            "orientation": "horizontal",
            "style": "IPY_MODEL_e4d99b88dd5c44c78674ad9a0a8ef1e0",
            "value": 46830571
          }
        },
        "c82501d8f633426aace871931a2f3937": {
          "model_module": "@jupyter-widgets/controls",
          "model_name": "HTMLModel",
          "model_module_version": "1.5.0",
          "state": {
            "_dom_classes": [],
            "_model_module": "@jupyter-widgets/controls",
            "_model_module_version": "1.5.0",
            "_model_name": "HTMLModel",
            "_view_count": null,
            "_view_module": "@jupyter-widgets/controls",
            "_view_module_version": "1.5.0",
            "_view_name": "HTMLView",
            "description": "",
            "description_tooltip": null,
            "layout": "IPY_MODEL_ffc3e9b76a5d4461905be86cbc5b5285",
            "placeholder": "​",
            "style": "IPY_MODEL_c4f55c506e0246fc979d5c321e02653f",
            "value": " 44.7M/44.7M [00:00&lt;00:00, 209MB/s]"
          }
        },
        "233089068e5f4d419f4011e8b7cd8111": {
          "model_module": "@jupyter-widgets/base",
          "model_name": "LayoutModel",
          "model_module_version": "1.2.0",
          "state": {
            "_model_module": "@jupyter-widgets/base",
            "_model_module_version": "1.2.0",
            "_model_name": "LayoutModel",
            "_view_count": null,
            "_view_module": "@jupyter-widgets/base",
            "_view_module_version": "1.2.0",
            "_view_name": "LayoutView",
            "align_content": null,
            "align_items": null,
            "align_self": null,
            "border": null,
            "bottom": null,
            "display": null,
            "flex": null,
            "flex_flow": null,
            "grid_area": null,
            "grid_auto_columns": null,
            "grid_auto_flow": null,
            "grid_auto_rows": null,
            "grid_column": null,
            "grid_gap": null,
            "grid_row": null,
            "grid_template_areas": null,
            "grid_template_columns": null,
            "grid_template_rows": null,
            "height": null,
            "justify_content": null,
            "justify_items": null,
            "left": null,
            "margin": null,
            "max_height": null,
            "max_width": null,
            "min_height": null,
            "min_width": null,
            "object_fit": null,
            "object_position": null,
            "order": null,
            "overflow": null,
            "overflow_x": null,
            "overflow_y": null,
            "padding": null,
            "right": null,
            "top": null,
            "visibility": null,
            "width": null
          }
        },
        "92c13dc3549842da8ffb27a05c4a68cd": {
          "model_module": "@jupyter-widgets/base",
          "model_name": "LayoutModel",
          "model_module_version": "1.2.0",
          "state": {
            "_model_module": "@jupyter-widgets/base",
            "_model_module_version": "1.2.0",
            "_model_name": "LayoutModel",
            "_view_count": null,
            "_view_module": "@jupyter-widgets/base",
            "_view_module_version": "1.2.0",
            "_view_name": "LayoutView",
            "align_content": null,
            "align_items": null,
            "align_self": null,
            "border": null,
            "bottom": null,
            "display": null,
            "flex": null,
            "flex_flow": null,
            "grid_area": null,
            "grid_auto_columns": null,
            "grid_auto_flow": null,
            "grid_auto_rows": null,
            "grid_column": null,
            "grid_gap": null,
            "grid_row": null,
            "grid_template_areas": null,
            "grid_template_columns": null,
            "grid_template_rows": null,
            "height": null,
            "justify_content": null,
            "justify_items": null,
            "left": null,
            "margin": null,
            "max_height": null,
            "max_width": null,
            "min_height": null,
            "min_width": null,
            "object_fit": null,
            "object_position": null,
            "order": null,
            "overflow": null,
            "overflow_x": null,
            "overflow_y": null,
            "padding": null,
            "right": null,
            "top": null,
            "visibility": null,
            "width": null
          }
        },
        "27a173c4e213439e8c70f2a19700163e": {
          "model_module": "@jupyter-widgets/controls",
          "model_name": "DescriptionStyleModel",
          "model_module_version": "1.5.0",
          "state": {
            "_model_module": "@jupyter-widgets/controls",
            "_model_module_version": "1.5.0",
            "_model_name": "DescriptionStyleModel",
            "_view_count": null,
            "_view_module": "@jupyter-widgets/base",
            "_view_module_version": "1.2.0",
            "_view_name": "StyleView",
            "description_width": ""
          }
        },
        "4814e41aa9a644cda5b58b8f4e74ff87": {
          "model_module": "@jupyter-widgets/base",
          "model_name": "LayoutModel",
          "model_module_version": "1.2.0",
          "state": {
            "_model_module": "@jupyter-widgets/base",
            "_model_module_version": "1.2.0",
            "_model_name": "LayoutModel",
            "_view_count": null,
            "_view_module": "@jupyter-widgets/base",
            "_view_module_version": "1.2.0",
            "_view_name": "LayoutView",
            "align_content": null,
            "align_items": null,
            "align_self": null,
            "border": null,
            "bottom": null,
            "display": null,
            "flex": null,
            "flex_flow": null,
            "grid_area": null,
            "grid_auto_columns": null,
            "grid_auto_flow": null,
            "grid_auto_rows": null,
            "grid_column": null,
            "grid_gap": null,
            "grid_row": null,
            "grid_template_areas": null,
            "grid_template_columns": null,
            "grid_template_rows": null,
            "height": null,
            "justify_content": null,
            "justify_items": null,
            "left": null,
            "margin": null,
            "max_height": null,
            "max_width": null,
            "min_height": null,
            "min_width": null,
            "object_fit": null,
            "object_position": null,
            "order": null,
            "overflow": null,
            "overflow_x": null,
            "overflow_y": null,
            "padding": null,
            "right": null,
            "top": null,
            "visibility": null,
            "width": null
          }
        },
        "e4d99b88dd5c44c78674ad9a0a8ef1e0": {
          "model_module": "@jupyter-widgets/controls",
          "model_name": "ProgressStyleModel",
          "model_module_version": "1.5.0",
          "state": {
            "_model_module": "@jupyter-widgets/controls",
            "_model_module_version": "1.5.0",
            "_model_name": "ProgressStyleModel",
            "_view_count": null,
            "_view_module": "@jupyter-widgets/base",
            "_view_module_version": "1.2.0",
            "_view_name": "StyleView",
            "bar_color": null,
            "description_width": ""
          }
        },
        "ffc3e9b76a5d4461905be86cbc5b5285": {
          "model_module": "@jupyter-widgets/base",
          "model_name": "LayoutModel",
          "model_module_version": "1.2.0",
          "state": {
            "_model_module": "@jupyter-widgets/base",
            "_model_module_version": "1.2.0",
            "_model_name": "LayoutModel",
            "_view_count": null,
            "_view_module": "@jupyter-widgets/base",
            "_view_module_version": "1.2.0",
            "_view_name": "LayoutView",
            "align_content": null,
            "align_items": null,
            "align_self": null,
            "border": null,
            "bottom": null,
            "display": null,
            "flex": null,
            "flex_flow": null,
            "grid_area": null,
            "grid_auto_columns": null,
            "grid_auto_flow": null,
            "grid_auto_rows": null,
            "grid_column": null,
            "grid_gap": null,
            "grid_row": null,
            "grid_template_areas": null,
            "grid_template_columns": null,
            "grid_template_rows": null,
            "height": null,
            "justify_content": null,
            "justify_items": null,
            "left": null,
            "margin": null,
            "max_height": null,
            "max_width": null,
            "min_height": null,
            "min_width": null,
            "object_fit": null,
            "object_position": null,
            "order": null,
            "overflow": null,
            "overflow_x": null,
            "overflow_y": null,
            "padding": null,
            "right": null,
            "top": null,
            "visibility": null,
            "width": null
          }
        },
        "c4f55c506e0246fc979d5c321e02653f": {
          "model_module": "@jupyter-widgets/controls",
          "model_name": "DescriptionStyleModel",
          "model_module_version": "1.5.0",
          "state": {
            "_model_module": "@jupyter-widgets/controls",
            "_model_module_version": "1.5.0",
            "_model_name": "DescriptionStyleModel",
            "_view_count": null,
            "_view_module": "@jupyter-widgets/base",
            "_view_module_version": "1.2.0",
            "_view_name": "StyleView",
            "description_width": ""
          }
        }
      }
    }
  },
  "nbformat": 4,
  "nbformat_minor": 0
}